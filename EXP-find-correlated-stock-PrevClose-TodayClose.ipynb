{
 "cells": [
  {
   "cell_type": "code",
   "execution_count": 1,
   "metadata": {},
   "outputs": [],
   "source": [
    "import numpy as np\n",
    "import warnings\n",
    "from pandas_datareader import data as pdr\n",
    "import yfinance as yf\n",
    "import datetime as dt\n",
    "from yahoo_fin import stock_info as si\n",
    "import pandas as pd\n",
    "pd.set_option('display.max_rows', None)\n",
    "warnings.filterwarnings(\"ignore\")\n",
    "yf.pdr_override()"
   ]
  },
  {
   "cell_type": "code",
   "execution_count": 2,
   "metadata": {},
   "outputs": [],
   "source": [
    "num_of_years = 1\n",
    "start = dt.date.today() - dt.timedelta(days = int(365.25*num_of_years))\n",
    "end = dt.date.today()"
   ]
  },
  {
   "cell_type": "code",
   "execution_count": null,
   "metadata": {},
   "outputs": [],
   "source": [
    "# df = pd.read_csv('data/mktcap.csv', index_col=0)\n",
    "# df = df[df['mktcap']>0]\n",
    "#\n",
    "# Use csv file from China\n",
    "df = pd.read_csv('data/hk_stock_full.csv', header=None)\n",
    "df = df.rename(columns={0: 'stock'})"
   ]
  },
  {
   "cell_type": "code",
   "execution_count": null,
   "metadata": {},
   "outputs": [],
   "source": [
    "df"
   ]
  },
  {
   "cell_type": "code",
   "execution_count": null,
   "metadata": {},
   "outputs": [],
   "source": [
    "def stock_begin_timegap(stock):\n",
    "    num_of_years = 1\n",
    "    start = dt.date.today() - dt.timedelta(days = int(365.25*num_of_years))\n",
    "    try:\n",
    "        stock_start = yf.download(stock, start=start).index[0]\n",
    "        return (stock_start - pd.to_datetime(start)).days\n",
    "    except:\n",
    "        return 10000"
   ]
  },
  {
   "cell_type": "code",
   "execution_count": null,
   "metadata": {},
   "outputs": [],
   "source": [
    "df['gap'] = df['stock'].apply(stock_begin_timegap)"
   ]
  },
  {
   "cell_type": "code",
   "execution_count": null,
   "metadata": {},
   "outputs": [],
   "source": [
    "df"
   ]
  },
  {
   "cell_type": "code",
   "execution_count": null,
   "metadata": {},
   "outputs": [],
   "source": [
    "stock_df = df[df['gap'] <= 5]"
   ]
  },
  {
   "cell_type": "code",
   "execution_count": null,
   "metadata": {},
   "outputs": [],
   "source": [
    "stock_df.count()"
   ]
  },
  {
   "cell_type": "code",
   "execution_count": null,
   "metadata": {},
   "outputs": [],
   "source": [
    "stock_df.to_csv('data/stock_qualified.csv')"
   ]
  },
  {
   "cell_type": "markdown",
   "metadata": {},
   "source": [
    "### Find correlation"
   ]
  },
  {
   "cell_type": "code",
   "execution_count": 3,
   "metadata": {},
   "outputs": [],
   "source": [
    "stock_df = pd.read_csv('data/stock_qualified.csv', index_col=0)"
   ]
  },
  {
   "cell_type": "code",
   "execution_count": 4,
   "metadata": {},
   "outputs": [
    {
     "name": "stdout",
     "output_type": "stream",
     "text": [
      "[*********************100%***********************]  2171 of 2171 completed\n",
      "CPU times: user 2min 19s, sys: 18.3 s, total: 2min 37s\n",
      "Wall time: 3min 46s\n"
     ]
    }
   ],
   "source": [
    "%%time\n",
    "tickers = stock_df['stock'].to_list()\n",
    "dataset = pdr.get_data_yahoo(tickers, start, end)['Adj Close']"
   ]
  },
  {
   "cell_type": "code",
   "execution_count": 6,
   "metadata": {},
   "outputs": [
    {
     "name": "stdout",
     "output_type": "stream",
     "text": [
      "<class 'pandas.core.frame.DataFrame'>\n",
      "DatetimeIndex: 256 entries, 2019-11-18 to 2020-11-16\n",
      "Columns: 2171 entries, 0001.HK to 9900.HK\n",
      "dtypes: float64(2171)\n",
      "memory usage: 4.2 MB\n"
     ]
    }
   ],
   "source": [
    "dataset.info()"
   ]
  },
  {
   "cell_type": "code",
   "execution_count": 7,
   "metadata": {},
   "outputs": [],
   "source": [
    "dataset.to_csv('data/all_stock_close.csv')"
   ]
  },
  {
   "cell_type": "code",
   "execution_count": 8,
   "metadata": {},
   "outputs": [
    {
     "data": {
      "text/html": [
       "<div>\n",
       "<style scoped>\n",
       "    .dataframe tbody tr th:only-of-type {\n",
       "        vertical-align: middle;\n",
       "    }\n",
       "\n",
       "    .dataframe tbody tr th {\n",
       "        vertical-align: top;\n",
       "    }\n",
       "\n",
       "    .dataframe thead th {\n",
       "        text-align: right;\n",
       "    }\n",
       "</style>\n",
       "<table border=\"1\" class=\"dataframe\">\n",
       "  <thead>\n",
       "    <tr style=\"text-align: right;\">\n",
       "      <th></th>\n",
       "      <th>0001.HK</th>\n",
       "      <th>0002.HK</th>\n",
       "      <th>0003.HK</th>\n",
       "      <th>0004.HK</th>\n",
       "      <th>0005.HK</th>\n",
       "      <th>0006.HK</th>\n",
       "      <th>0007.HK</th>\n",
       "      <th>0008.HK</th>\n",
       "      <th>0009.HK</th>\n",
       "      <th>0010.HK</th>\n",
       "      <th>...</th>\n",
       "      <th>8612.HK</th>\n",
       "      <th>8613.HK</th>\n",
       "      <th>8619.HK</th>\n",
       "      <th>8621.HK</th>\n",
       "      <th>8622.HK</th>\n",
       "      <th>8627.HK</th>\n",
       "      <th>8631.HK</th>\n",
       "      <th>8635.HK</th>\n",
       "      <th>8668.HK</th>\n",
       "      <th>9900.HK</th>\n",
       "    </tr>\n",
       "    <tr>\n",
       "      <th>Date</th>\n",
       "      <th></th>\n",
       "      <th></th>\n",
       "      <th></th>\n",
       "      <th></th>\n",
       "      <th></th>\n",
       "      <th></th>\n",
       "      <th></th>\n",
       "      <th></th>\n",
       "      <th></th>\n",
       "      <th></th>\n",
       "      <th></th>\n",
       "      <th></th>\n",
       "      <th></th>\n",
       "      <th></th>\n",
       "      <th></th>\n",
       "      <th></th>\n",
       "      <th></th>\n",
       "      <th></th>\n",
       "      <th></th>\n",
       "      <th></th>\n",
       "      <th></th>\n",
       "    </tr>\n",
       "  </thead>\n",
       "  <tbody>\n",
       "    <tr>\n",
       "      <th>2019-11-18</th>\n",
       "      <td>68.200218</td>\n",
       "      <td>76.621101</td>\n",
       "      <td>13.894835</td>\n",
       "      <td>18.031931</td>\n",
       "      <td>57.980183</td>\n",
       "      <td>51.817047</td>\n",
       "      <td>0.86</td>\n",
       "      <td>4.268155</td>\n",
       "      <td>0.122</td>\n",
       "      <td>19.018490</td>\n",
       "      <td>...</td>\n",
       "      <td>0.56</td>\n",
       "      <td>0.070</td>\n",
       "      <td>1.74</td>\n",
       "      <td>0.49</td>\n",
       "      <td>0.139</td>\n",
       "      <td>0.24</td>\n",
       "      <td>0.16</td>\n",
       "      <td>0.118341</td>\n",
       "      <td>0.162</td>\n",
       "      <td>1.45</td>\n",
       "    </tr>\n",
       "    <tr>\n",
       "      <th>2019-11-19</th>\n",
       "      <td>69.289536</td>\n",
       "      <td>77.142654</td>\n",
       "      <td>14.061546</td>\n",
       "      <td>18.130037</td>\n",
       "      <td>58.627724</td>\n",
       "      <td>52.288540</td>\n",
       "      <td>0.86</td>\n",
       "      <td>4.324192</td>\n",
       "      <td>0.119</td>\n",
       "      <td>19.213554</td>\n",
       "      <td>...</td>\n",
       "      <td>0.53</td>\n",
       "      <td>0.068</td>\n",
       "      <td>1.70</td>\n",
       "      <td>0.56</td>\n",
       "      <td>0.126</td>\n",
       "      <td>0.51</td>\n",
       "      <td>0.16</td>\n",
       "      <td>0.121275</td>\n",
       "      <td>0.162</td>\n",
       "      <td>1.47</td>\n",
       "    </tr>\n",
       "    <tr>\n",
       "      <th>2019-11-20</th>\n",
       "      <td>69.052727</td>\n",
       "      <td>76.621101</td>\n",
       "      <td>14.006008</td>\n",
       "      <td>17.816097</td>\n",
       "      <td>58.279049</td>\n",
       "      <td>52.524284</td>\n",
       "      <td>0.84</td>\n",
       "      <td>4.333531</td>\n",
       "      <td>0.118</td>\n",
       "      <td>19.330589</td>\n",
       "      <td>...</td>\n",
       "      <td>0.53</td>\n",
       "      <td>0.068</td>\n",
       "      <td>1.68</td>\n",
       "      <td>0.69</td>\n",
       "      <td>0.127</td>\n",
       "      <td>0.46</td>\n",
       "      <td>0.17</td>\n",
       "      <td>0.124209</td>\n",
       "      <td>0.165</td>\n",
       "      <td>1.42</td>\n",
       "    </tr>\n",
       "  </tbody>\n",
       "</table>\n",
       "<p>3 rows × 2171 columns</p>\n",
       "</div>"
      ],
      "text/plain": [
       "              0001.HK    0002.HK    0003.HK    0004.HK    0005.HK    0006.HK  \\\n",
       "Date                                                                           \n",
       "2019-11-18  68.200218  76.621101  13.894835  18.031931  57.980183  51.817047   \n",
       "2019-11-19  69.289536  77.142654  14.061546  18.130037  58.627724  52.288540   \n",
       "2019-11-20  69.052727  76.621101  14.006008  17.816097  58.279049  52.524284   \n",
       "\n",
       "            0007.HK   0008.HK  0009.HK    0010.HK  ...  8612.HK  8613.HK  \\\n",
       "Date                                               ...                     \n",
       "2019-11-18     0.86  4.268155    0.122  19.018490  ...     0.56    0.070   \n",
       "2019-11-19     0.86  4.324192    0.119  19.213554  ...     0.53    0.068   \n",
       "2019-11-20     0.84  4.333531    0.118  19.330589  ...     0.53    0.068   \n",
       "\n",
       "            8619.HK  8621.HK  8622.HK  8627.HK  8631.HK   8635.HK  8668.HK  \\\n",
       "Date                                                                         \n",
       "2019-11-18     1.74     0.49    0.139     0.24     0.16  0.118341    0.162   \n",
       "2019-11-19     1.70     0.56    0.126     0.51     0.16  0.121275    0.162   \n",
       "2019-11-20     1.68     0.69    0.127     0.46     0.17  0.124209    0.165   \n",
       "\n",
       "            9900.HK  \n",
       "Date                 \n",
       "2019-11-18     1.45  \n",
       "2019-11-19     1.47  \n",
       "2019-11-20     1.42  \n",
       "\n",
       "[3 rows x 2171 columns]"
      ]
     },
     "execution_count": 8,
     "metadata": {},
     "output_type": "execute_result"
    }
   ],
   "source": [
    "dataset.head(3)"
   ]
  },
  {
   "cell_type": "code",
   "execution_count": null,
   "metadata": {},
   "outputs": [],
   "source": [
    "dataset['']"
   ]
  },
  {
   "cell_type": "markdown",
   "metadata": {},
   "source": [
    "### Use close on all stocks to compile result"
   ]
  },
  {
   "cell_type": "code",
   "execution_count": 3,
   "metadata": {},
   "outputs": [],
   "source": [
    "dataset = pd.read_csv('data/all_stock_close.csv')\n",
    "dataset['Date'] = pd.to_datetime(dataset['Date'])\n",
    "dataset.set_index('Date', drop=True, inplace=True)"
   ]
  },
  {
   "cell_type": "code",
   "execution_count": 4,
   "metadata": {},
   "outputs": [],
   "source": [
    "prevday_returns = np.log(dataset.shift(1)/dataset.shift(2))\n",
    "today_returns = np.log(dataset/dataset.shift(1))"
   ]
  },
  {
   "cell_type": "code",
   "execution_count": 5,
   "metadata": {},
   "outputs": [],
   "source": [
    "stocks_prev = prevday_returns.columns.to_list()\n",
    "stocks_today = today_returns.columns.to_list()"
   ]
  },
  {
   "cell_type": "code",
   "execution_count": 6,
   "metadata": {},
   "outputs": [],
   "source": [
    "new_col = ['{}.prev'.format(c) for c in stocks_prev]\n",
    "prevday_returns.columns = new_col"
   ]
  },
  {
   "cell_type": "code",
   "execution_count": 7,
   "metadata": {},
   "outputs": [],
   "source": [
    "comb_df = pd.concat([prevday_returns, today_returns], axis=1)"
   ]
  },
  {
   "cell_type": "code",
   "execution_count": 8,
   "metadata": {},
   "outputs": [
    {
     "name": "stdout",
     "output_type": "stream",
     "text": [
      "\n",
      "Correlation Matrix\n",
      "CPU times: user 8.59 s, sys: 83.4 ms, total: 8.67 s\n",
      "Wall time: 8.66 s\n"
     ]
    }
   ],
   "source": [
    "%%time\n",
    "print('\\nCorrelation Matrix')\n",
    "corr_matrix = comb_df.corr()\n",
    "# print(corr_matrix)"
   ]
  },
  {
   "cell_type": "code",
   "execution_count": 9,
   "metadata": {},
   "outputs": [],
   "source": [
    "corr_matrix_corrected = corr_matrix.loc[new_col, stocks_today]"
   ]
  },
  {
   "cell_type": "markdown",
   "metadata": {},
   "source": [
    "### What to drop"
   ]
  },
  {
   "cell_type": "code",
   "execution_count": 17,
   "metadata": {},
   "outputs": [
    {
     "data": {
      "text/plain": [
       "(4713241,)"
      ]
     },
     "execution_count": 17,
     "metadata": {},
     "output_type": "execute_result"
    }
   ],
   "source": [
    "sorted_corr = corr_matrix_corrected.abs().unstack().sort_values(ascending=False)\n",
    "sorted_corr.shape"
   ]
  },
  {
   "cell_type": "code",
   "execution_count": 18,
   "metadata": {},
   "outputs": [
    {
     "data": {
      "text/plain": [
       "8612.HK  6898.HK.prev    0.796597\n",
       "1121.HK  1195.HK.prev    0.778497\n",
       "1315.HK  0056.HK.prev    0.769216\n",
       "1636.HK  8631.HK.prev    0.755231\n",
       "6898.HK  1216.HK.prev    0.752972\n",
       "1216.HK  1371.HK.prev    0.690528\n",
       "8427.HK  0508.HK.prev    0.675625\n",
       "1371.HK  1143.HK.prev    0.673683\n",
       "1003.HK  0612.HK.prev    0.670347\n",
       "1439.HK  8627.HK.prev    0.667464\n",
       "dtype: float64"
      ]
     },
     "execution_count": 18,
     "metadata": {},
     "output_type": "execute_result"
    }
   ],
   "source": [
    "sorted_corr.head(10)"
   ]
  },
  {
   "cell_type": "code",
   "execution_count": null,
   "metadata": {},
   "outputs": [],
   "source": []
  }
 ],
 "metadata": {
  "kernelspec": {
   "display_name": "Python 3",
   "language": "python",
   "name": "python3"
  },
  "language_info": {
   "codemirror_mode": {
    "name": "ipython",
    "version": 3
   },
   "file_extension": ".py",
   "mimetype": "text/x-python",
   "name": "python",
   "nbconvert_exporter": "python",
   "pygments_lexer": "ipython3",
   "version": "3.7.7"
  }
 },
 "nbformat": 4,
 "nbformat_minor": 4
}
