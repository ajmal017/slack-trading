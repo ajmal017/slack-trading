{
 "cells": [
  {
   "cell_type": "markdown",
   "metadata": {},
   "source": [
    "### Focus on stock price rise only"
   ]
  },
  {
   "cell_type": "code",
   "execution_count": 1,
   "metadata": {},
   "outputs": [],
   "source": [
    "import numpy as np\n",
    "import warnings\n",
    "from pandas_datareader import data as pdr\n",
    "import yfinance as yf\n",
    "import datetime as dt\n",
    "from yahoo_fin import stock_info as si\n",
    "import pandas as pd\n",
    "pd.set_option('display.max_rows', None)\n",
    "warnings.filterwarnings(\"ignore\")\n",
    "yf.pdr_override()"
   ]
  },
  {
   "cell_type": "code",
   "execution_count": 2,
   "metadata": {},
   "outputs": [],
   "source": [
    "num_of_years = 1\n",
    "start = dt.date.today() - dt.timedelta(days = int(365.25*num_of_years))\n",
    "end = dt.date.today()"
   ]
  },
  {
   "cell_type": "code",
   "execution_count": null,
   "metadata": {},
   "outputs": [],
   "source": [
    "df = pd.read_csv('data/mktcap.csv', index_col=0)\n",
    "df = df[df['mktcap']>0]"
   ]
  },
  {
   "cell_type": "code",
   "execution_count": null,
   "metadata": {},
   "outputs": [],
   "source": [
    "def stock_begin_timegap(stock):\n",
    "    num_of_years = 1\n",
    "    start = dt.date.today() - dt.timedelta(days = int(365.25*num_of_years))\n",
    "    stock_start = yf.download(stock, start=start).index[0]\n",
    "    return (stock_start - pd.to_datetime(start)).days"
   ]
  },
  {
   "cell_type": "code",
   "execution_count": null,
   "metadata": {},
   "outputs": [],
   "source": [
    "df['gap'] = df['stock'].apply(stock_begin_timegap)"
   ]
  },
  {
   "cell_type": "code",
   "execution_count": null,
   "metadata": {},
   "outputs": [],
   "source": [
    "df"
   ]
  },
  {
   "cell_type": "code",
   "execution_count": null,
   "metadata": {},
   "outputs": [],
   "source": [
    "stock_df = df[df['gap'] <= 5]"
   ]
  },
  {
   "cell_type": "markdown",
   "metadata": {},
   "source": [
    "### Find correlation"
   ]
  },
  {
   "cell_type": "code",
   "execution_count": null,
   "metadata": {},
   "outputs": [],
   "source": [
    "tickers = stock_df['stock'].to_list()\n",
    "dataset = pdr.get_data_yahoo(tickers, start, end)['Adj Close']"
   ]
  },
  {
   "cell_type": "markdown",
   "metadata": {},
   "source": [
    "### Load datasets"
   ]
  },
  {
   "cell_type": "code",
   "execution_count": 3,
   "metadata": {},
   "outputs": [],
   "source": [
    "dataset = pd.read_csv('data/all_stock_close.csv')\n",
    "dataset['Date'] = pd.to_datetime(dataset['Date'])\n",
    "dataset.set_index('Date', drop=True, inplace=True)"
   ]
  },
  {
   "cell_type": "code",
   "execution_count": 4,
   "metadata": {},
   "outputs": [],
   "source": [
    "prevday_returns = np.log(dataset.shift(1)/dataset.shift(2))\n",
    "prevday_returns[prevday_returns < 0] = 0\n",
    "today_returns = np.log(dataset/dataset.shift(1))\n",
    "today_returns[today_returns < 0] = 0"
   ]
  },
  {
   "cell_type": "code",
   "execution_count": 5,
   "metadata": {},
   "outputs": [],
   "source": [
    "stocks_prev = prevday_returns.columns.to_list()\n",
    "stocks_today = today_returns.columns.to_list()"
   ]
  },
  {
   "cell_type": "code",
   "execution_count": 6,
   "metadata": {},
   "outputs": [],
   "source": [
    "new_col = ['{}.prev'.format(c) for c in stocks_prev]\n",
    "prevday_returns.columns = new_col"
   ]
  },
  {
   "cell_type": "code",
   "execution_count": 7,
   "metadata": {},
   "outputs": [],
   "source": [
    "comb_df = pd.concat([prevday_returns, today_returns], axis=1)"
   ]
  },
  {
   "cell_type": "code",
   "execution_count": 8,
   "metadata": {},
   "outputs": [
    {
     "name": "stdout",
     "output_type": "stream",
     "text": [
      "\n",
      "Correlation Matrix\n",
      "CPU times: user 8.7 s, sys: 91.8 ms, total: 8.79 s\n",
      "Wall time: 8.78 s\n"
     ]
    }
   ],
   "source": [
    "%%time\n",
    "print('\\nCorrelation Matrix')\n",
    "corr_matrix = comb_df.corr()\n",
    "# print(corr_matrix)"
   ]
  },
  {
   "cell_type": "code",
   "execution_count": 9,
   "metadata": {},
   "outputs": [],
   "source": [
    "corr_matrix_corrected = corr_matrix.loc[new_col, stocks_today]"
   ]
  },
  {
   "cell_type": "markdown",
   "metadata": {},
   "source": [
    "### What to drop"
   ]
  },
  {
   "cell_type": "code",
   "execution_count": 10,
   "metadata": {},
   "outputs": [
    {
     "data": {
      "text/plain": [
       "(4713241,)"
      ]
     },
     "execution_count": 10,
     "metadata": {},
     "output_type": "execute_result"
    }
   ],
   "source": [
    "sorted_corr = corr_matrix_corrected.abs().unstack().sort_values(ascending=False)\n",
    "sorted_corr.shape"
   ]
  },
  {
   "cell_type": "code",
   "execution_count": 11,
   "metadata": {},
   "outputs": [
    {
     "data": {
      "text/plain": [
       "6898.HK  1216.HK.prev    0.873743\n",
       "0068.HK  0993.HK.prev    0.859883\n",
       "0422.HK  0127.HK.prev    0.858560\n",
       "0277.HK  8001.HK.prev    0.854863\n",
       "1216.HK  1371.HK.prev    0.845586\n",
       "0496.HK  0608.HK.prev    0.843946\n",
       "1371.HK  1143.HK.prev    0.832390\n",
       "1121.HK  1195.HK.prev    0.830744\n",
       "6858.HK  1559.HK.prev    0.791566\n",
       "0458.HK  6858.HK.prev    0.778425\n",
       "dtype: float64"
      ]
     },
     "execution_count": 11,
     "metadata": {},
     "output_type": "execute_result"
    }
   ],
   "source": [
    "sorted_corr.head(10)"
   ]
  },
  {
   "cell_type": "markdown",
   "metadata": {},
   "source": [
    "### Charting"
   ]
  },
  {
   "cell_type": "code",
   "execution_count": 12,
   "metadata": {},
   "outputs": [],
   "source": [
    "import matplotlib.pyplot as plt\n",
    "import matplotlib.dates as mdates\n",
    "from mpl_finance import candlestick_ohlc\n",
    "import yfinance as yf \n",
    "import talib as TA\n",
    "from datetime import datetime\n",
    "\n",
    "from dateutil.relativedelta import relativedelta"
   ]
  },
  {
   "cell_type": "code",
   "execution_count": 13,
   "metadata": {},
   "outputs": [
    {
     "data": {
      "text/plain": [
       "datetime.date(2019, 11, 17)"
      ]
     },
     "execution_count": 13,
     "metadata": {},
     "output_type": "execute_result"
    }
   ],
   "source": [
    "start"
   ]
  },
  {
   "cell_type": "code",
   "execution_count": 22,
   "metadata": {},
   "outputs": [
    {
     "name": "stdout",
     "output_type": "stream",
     "text": [
      "[*********************100%***********************]  1 of 1 completed\n",
      "[*********************100%***********************]  1 of 1 completed\n"
     ]
    }
   ],
   "source": [
    "stock1 = '6898.HK'\n",
    "stock2 = '8612.HK'\n",
    "df1 = yf.download(stock1, start=start)\n",
    "df1['Date'] = df1.index\n",
    "df1['Date'] = df1['Date'].apply(mdates.date2num)\n",
    "df2 = yf.download(stock2, start=start)\n",
    "df2['Date'] = df2.index\n",
    "df2['Date'] = df2['Date'].apply(mdates.date2num)"
   ]
  },
  {
   "cell_type": "code",
   "execution_count": 23,
   "metadata": {
    "scrolled": true
   },
   "outputs": [
    {
     "data": {
      "text/plain": [
       "<matplotlib.legend.Legend at 0x7f36aa48fd50>"
      ]
     },
     "execution_count": 23,
     "metadata": {},
     "output_type": "execute_result"
    },
    {
     "data": {
      "image/png": "[encoded data removed]",
      "text/plain": [
       "<Figure size 1080x1440 with 2 Axes>"
      ]
     },
     "metadata": {
      "needs_background": "light"
     },
     "output_type": "display_data"
    }
   ],
   "source": [
    "ohlc_seq = ['Date', 'Open', 'High', 'Low', 'Close']\n",
    "fig = plt.figure(figsize = (15,20))\n",
    "# fig.suptitle('{}.HK {}'.format(label, start_date.year), fontsize=18)\n",
    "current_row = 0\n",
    "ax_height = 3\n",
    "ax0 = plt.subplot2grid((15,4), (current_row,0), rowspan=ax_height, colspan=4)\n",
    "ax0.grid(True)\n",
    "candlestick_ohlc(ax0, df1[ohlc_seq].values, width=.4, colorup='#53c156', colordown='#ff1717')\n",
    "ax0.xaxis.set_major_formatter(mdates.DateFormatter('%m-%d'))\n",
    "ax0.legend([stock1])\n",
    "#\n",
    "current_row = current_row + ax_height\n",
    "ax_height = 3\n",
    "ax1 = plt.subplot2grid((15,4), (current_row,0), rowspan=ax_height, colspan=4, sharex=ax0)\n",
    "ax1.grid(True)\n",
    "candlestick_ohlc(ax1, df2[ohlc_seq].values, width=.4, colorup='#53c156', colordown='#ff1717')\n",
    "ax1.xaxis.set_major_formatter(mdates.DateFormatter('%m-%d'))\n",
    "ax1.legend([stock2])"
   ]
  },
  {
   "cell_type": "markdown",
   "metadata": {},
   "source": [
    "### Zoom into a period"
   ]
  },
  {
   "cell_type": "code",
   "execution_count": 24,
   "metadata": {},
   "outputs": [],
   "source": [
    "chart_start = '12/01/2019'\n",
    "chart_end = '12/31/2019'"
   ]
  },
  {
   "cell_type": "code",
   "execution_count": 25,
   "metadata": {},
   "outputs": [
    {
     "data": {
      "text/plain": [
       "<matplotlib.legend.Legend at 0x7f36a9cd12d0>"
      ]
     },
     "execution_count": 25,
     "metadata": {},
     "output_type": "execute_result"
    },
    {
     "data": {
      "image/png": "[encoded data removed]",
      "text/plain": [
       "<Figure size 1080x1440 with 2 Axes>"
      ]
     },
     "metadata": {
      "needs_background": "light"
     },
     "output_type": "display_data"
    }
   ],
   "source": [
    "ohlc_seq = ['Date', 'Open', 'High', 'Low', 'Close']\n",
    "fig = plt.figure(figsize = (15,20))\n",
    "# fig.suptitle('{}.HK {}'.format(label, start_date.year), fontsize=18)\n",
    "current_row = 0\n",
    "ax_height = 3\n",
    "ax0 = plt.subplot2grid((15,4), (current_row,0), rowspan=ax_height, colspan=4)\n",
    "ax0.grid(True)\n",
    "candlestick_ohlc(ax0, df1.loc[chart_start:chart_end,ohlc_seq].values, width=.4, colorup='#53c156', colordown='#ff1717')\n",
    "ax0.xaxis.set_major_formatter(mdates.DateFormatter('%m-%d'))\n",
    "ax0.legend([stock1])\n",
    "#\n",
    "current_row = current_row + ax_height\n",
    "ax_height = 3\n",
    "ax1 = plt.subplot2grid((15,4), (current_row,0), rowspan=ax_height, colspan=4, sharex=ax0)\n",
    "ax1.grid(True)\n",
    "candlestick_ohlc(ax1, df2.loc[chart_start:chart_end,ohlc_seq].values, width=.4, colorup='#53c156', colordown='#ff1717')\n",
    "ax1.xaxis.set_major_formatter(mdates.DateFormatter('%m-%d'))\n",
    "ax1.legend([stock2])"
   ]
  },
  {
   "cell_type": "markdown",
   "metadata": {},
   "source": [
    "### More Analysis"
   ]
  },
  {
   "cell_type": "code",
   "execution_count": 26,
   "metadata": {},
   "outputs": [],
   "source": [
    "prev_stock = '{}.prev'.format(stock1)\n",
    "now_stock = stock2\n",
    "compare_df = pd.concat([prevday_returns[prev_stock], today_returns[now_stock]], axis=1)"
   ]
  },
  {
   "cell_type": "code",
   "execution_count": 27,
   "metadata": {},
   "outputs": [
    {
     "data": {
      "text/plain": [
       "6898.HK.prev    72\n",
       "8612.HK         70\n",
       "dtype: int64"
      ]
     },
     "execution_count": 27,
     "metadata": {},
     "output_type": "execute_result"
    }
   ],
   "source": [
    "compare_df[compare_df[prev_stock]>0].count()"
   ]
  },
  {
   "cell_type": "code",
   "execution_count": 28,
   "metadata": {},
   "outputs": [
    {
     "data": {
      "text/plain": [
       "6898.HK.prev    46\n",
       "8612.HK         46\n",
       "dtype: int64"
      ]
     },
     "execution_count": 28,
     "metadata": {},
     "output_type": "execute_result"
    }
   ],
   "source": [
    "compare_df[(compare_df[prev_stock]>0) & (compare_df[now_stock]==0)].count()"
   ]
  },
  {
   "cell_type": "code",
   "execution_count": 29,
   "metadata": {},
   "outputs": [
    {
     "data": {
      "text/plain": [
       "6898.HK.prev    24\n",
       "8612.HK         24\n",
       "dtype: int64"
      ]
     },
     "execution_count": 29,
     "metadata": {},
     "output_type": "execute_result"
    }
   ],
   "source": [
    "compare_df[(compare_df[prev_stock]>0) & (compare_df[now_stock]>0)].count()"
   ]
  },
  {
   "cell_type": "code",
   "execution_count": null,
   "metadata": {},
   "outputs": [],
   "source": []
  }
 ],
 "metadata": {
  "kernelspec": {
   "display_name": "Python 3",
   "language": "python",
   "name": "python3"
  },
  "language_info": {
   "codemirror_mode": {
    "name": "ipython",
    "version": 3
   },
   "file_extension": ".py",
   "mimetype": "text/x-python",
   "name": "python",
   "nbconvert_exporter": "python",
   "pygments_lexer": "ipython3",
   "version": "3.7.7"
  }
 },
 "nbformat": 4,
 "nbformat_minor": 4
}
